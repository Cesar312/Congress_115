{
 "cells": [
  {
   "cell_type": "code",
   "execution_count": 75,
   "metadata": {},
   "outputs": [],
   "source": [
    "import pandas as pd\n",
    "from bs4 import BeautifulSoup\n",
    "import requests\n",
    "import pymongo\n",
    "from splinter import Browser\n",
    "from pprint import pprint"
   ]
  },
  {
   "cell_type": "code",
   "execution_count": 76,
   "metadata": {},
   "outputs": [
    {
     "name": "stdout",
     "output_type": "stream",
     "text": [
      "/usr/local/bin/chromedriver\r\n"
     ]
    }
   ],
   "source": [
    "!which chromedriver"
   ]
  },
  {
   "cell_type": "code",
   "execution_count": 77,
   "metadata": {},
   "outputs": [],
   "source": [
    "executable_path = {'executable_path': '/usr/local/bin/chromedriver'}\n",
    "browser = Browser('chrome', **executable_path, headless=False)"
   ]
  },
  {
   "cell_type": "markdown",
   "metadata": {},
   "source": [
    "# Twitter Data"
   ]
  },
  {
   "cell_type": "code",
   "execution_count": null,
   "metadata": {},
   "outputs": [],
   "source": [
    "url = 'https://twitter.com/115thcongress?lang=en'\n",
    "browser.visit(url)"
   ]
  },
  {
   "cell_type": "code",
   "execution_count": null,
   "metadata": {},
   "outputs": [],
   "source": [
    "html = browser.html\n",
    "twitter_soup = BeautifulSoup(html, 'html.parser')"
   ]
  },
  {
   "cell_type": "code",
   "execution_count": null,
   "metadata": {},
   "outputs": [],
   "source": [
    "congress_tweet = twitter_soup.find('p', class_='TweetTextSize').text\n",
    "congress_tweet"
   ]
  },
  {
   "cell_type": "markdown",
   "metadata": {},
   "source": [
    "# News Headline"
   ]
  },
  {
   "cell_type": "code",
   "execution_count": 103,
   "metadata": {},
   "outputs": [],
   "source": [
    "url = \"https://www.cnn.com/search/?q=congress\"\n",
    "browser.visit(url)"
   ]
  },
  {
   "cell_type": "code",
   "execution_count": 117,
   "metadata": {},
   "outputs": [
    {
     "name": "stdout",
     "output_type": "stream",
     "text": [
      "\n",
      "Some have started vape stockpiling in the US as a federal ban looms\n",
      "\n",
      "//www.cnn.com/2019/09/21/us/vape-stockpiling-legislation-trnd/index.html\n",
      "//cdn.cnn.com/cnnnext/dam/assets/190918111837-01-e-cigs-story-body.jpg\n"
     ]
    }
   ],
   "source": [
    "# HTML Object\n",
    "html = browser.html\n",
    "# Parse HTML with Beautiful Soup\n",
    "news_soup = BeautifulSoup(html, 'html.parser')\n",
    "# Retrieve the latest element that contains news title and news_paragraph\n",
    "news_title = news_soup.find('h3', class_='cnn-search__result-headline').text\n",
    "news_snippet = news_soup.find('div', class_='cnn-search__results-list').find('a').attrs['href']\n",
    "news_image = news_soup.find('div', class_='cnn-search__result-thumbnail').find('img').attrs['src']\n",
    "# Display scrapped data \n",
    "print(news_title)\n",
    "print(news_snippet)\n",
    "print(news_image)"
   ]
  },
  {
   "cell_type": "code",
   "execution_count": null,
   "metadata": {},
   "outputs": [],
   "source": []
  },
  {
   "cell_type": "code",
   "execution_count": 118,
   "metadata": {},
   "outputs": [
    {
     "name": "stdout",
     "output_type": "stream",
     "text": [
      "Candace Owens tells Congress white nationalism not a problem for minorities in US\n",
      "https://thehill.com/homenews/house/462395-candace-owens-tells-congress-white-nationalism-not-a-problem-for-minorities-in\n",
      "\n",
      "Fri, 20 Sep 2019 17:08:42 -0400\n",
      "------------------------------------------------------------\n",
      "Judiciary Democrats press White House over antitrust probe of automakers\n",
      "https://thehill.com/regulation/energy-environment/462356-judiciary-democrats-press-white-house-over-antitrust-probe-of\n",
      "\n",
      "Fri, 20 Sep 2019 14:28:58 -0400\n",
      "------------------------------------------------------------\n",
      "Pelosi urges Trump administration to release whistleblower complaint\n",
      "https://thehill.com/homenews/house/462355-pelosi-urges-trump-admin-to-release-whistleblower-complaint\n",
      "\n",
      "Fri, 20 Sep 2019 14:14:01 -0400\n",
      "------------------------------------------------------------\n",
      "Here are the Democrats who aren&#039;t co-sponsoring an assault weapons ban\n",
      "https://thehill.com/homenews/house/462186-here-are-the-democrats-who-arent-cosponsoring-an-assault-weapons-ban\n",
      "\n",
      "Fri, 20 Sep 2019 12:46:13 -0400\n",
      "------------------------------------------------------------\n",
      "Collins seeks appointment to Isakson seat\n",
      "https://thehill.com/homenews/house/462329-collins-seeks-appointment-to-isakson-seat\n",
      "\n",
      "Fri, 20 Sep 2019 12:16:09 -0400\n",
      "------------------------------------------------------------\n",
      "Swalwell to DNI: &#039;You do not have to be a part of a lawless administration&#039;\n",
      "https://thehill.com/homenews/house/462317-swalwell-to-dni-you-do-not-have-to-be-a-part-of-a-lawless-administration\n",
      "\n",
      "Fri, 20 Sep 2019 11:35:15 -0400\n",
      "------------------------------------------------------------\n",
      "House approves Democrat-backed bill ending mandatory arbitration\n",
      "https://thehill.com/homenews/house/462316-house-approves-democrat-backed-bill-ending-mandatory-arbitration\n",
      "\n",
      "Fri, 20 Sep 2019 11:31:17 -0400\n",
      "------------------------------------------------------------\n",
      "Reed thanks well wishers, will return to work Monday after collapse\n",
      "https://thehill.com/homenews/house/462297-reed-says-he-will-return-to-work-monday-after-collapse\n",
      "\n",
      "Fri, 20 Sep 2019 10:03:05 -0400\n",
      "------------------------------------------------------------\n",
      "Democrats blast HUD for removing LGBT language from grant competition\n",
      "https://thehill.com/homenews/house/462256-61-lawmakers-knock-hud-for-excluding-incentives-for-housing-first-transgender\n",
      "\n",
      "Thu, 19 Sep 2019 19:24:37 -0400\n",
      "------------------------------------------------------------\n",
      "Democrats press Nadler to hold Lewandowski in contempt\n",
      "https://thehill.com/homenews/house/462251-democrats-press-nadler-to-hold-lewandowski-in-contempt\n",
      "\n",
      "Thu, 19 Sep 2019 17:57:26 -0400\n",
      "------------------------------------------------------------\n",
      "Democrat accuses GOP of opposing DC statehood because of &#039;race and partisanship&#039;\n",
      "https://thehill.com/homenews/house/462248-democrat-accuses-gop-of-opposing-dc-statehood-because-of-race-and-partisanship\n",
      "\n",
      "Thu, 19 Sep 2019 17:54:54 -0400\n",
      "------------------------------------------------------------\n",
      "NYC teacher suing DeVos over student loan forgiveness program\n",
      "https://thehill.com/homenews/house/462220-nyc-teacher-suing-devos-over-student-loan-forgiveness-program\n",
      "\n",
      "Thu, 19 Sep 2019 16:09:09 -0400\n",
      "------------------------------------------------------------\n",
      "Two former Congressional Black Caucus chairmen back Biden\n",
      "https://thehill.com/homenews/campaign/462219-former-congressional-black-caucus-chairmen-back-biden\n",
      "\n",
      "Thu, 19 Sep 2019 15:58:02 -0400\n",
      "------------------------------------------------------------\n",
      "House votes to avert shutdown, fund government through November\n",
      "https://thehill.com/homenews/house/462207-house-votes-to-avert-shutdown-fund-government-through-november\n",
      "\n",
      "Thu, 19 Sep 2019 15:31:30 -0400\n",
      "------------------------------------------------------------\n",
      "Florida Rep. Charlie Crist endorses Biden \n",
      "https://thehill.com/homenews/campaign/462210-florida-rep-charlie-crist-endorses-biden\n",
      "\n",
      "Thu, 19 Sep 2019 15:27:08 -0400\n",
      "------------------------------------------------------------\n",
      "GOP Rep. Tom Reed collapses just before television appearance\n",
      "https://thehill.com/homenews/house/462196-gop-rep-tom-reed-collapses-just-before-television-appearance\n",
      "\n",
      "Thu, 19 Sep 2019 14:25:39 -0400\n",
      "------------------------------------------------------------\n"
     ]
    }
   ],
   "source": [
    "import bs4\n",
    "from bs4 import BeautifulSoup as soup\n",
    "from urllib.request import urlopen\n",
    "news_url=\"https://thehill.com/taxonomy/term/1131/feed\"\n",
    "Client=urlopen(news_url)\n",
    "xml_page=Client.read()\n",
    "Client.close()\n",
    "soup_page=soup(xml_page,\"xml\")\n",
    "news_list=soup_page.findAll(\"item\")\n",
    "# Print news title, url and publish date\n",
    "for news in news_list:\n",
    " print(news.title.text)\n",
    " print(news.link.text)\n",
    " print(news.pubDate.text)\n",
    " print(\"-\"*60)"
   ]
  },
  {
   "cell_type": "code",
   "execution_count": null,
   "metadata": {},
   "outputs": [],
   "source": []
  }
 ],
 "metadata": {
  "kernelspec": {
   "display_name": "Python 3",
   "language": "python",
   "name": "python3"
  },
  "language_info": {
   "codemirror_mode": {
    "name": "ipython",
    "version": 3
   },
   "file_extension": ".py",
   "mimetype": "text/x-python",
   "name": "python",
   "nbconvert_exporter": "python",
   "pygments_lexer": "ipython3",
   "version": "3.7.3"
  }
 },
 "nbformat": 4,
 "nbformat_minor": 2
}
